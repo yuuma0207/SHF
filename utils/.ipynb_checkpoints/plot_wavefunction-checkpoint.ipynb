{
 "cells": [
  {
   "cell_type": "code",
   "execution_count": 1,
   "id": "73442f36-fea1-473d-885c-56a8362f41b2",
   "metadata": {},
   "outputs": [],
   "source": [
    "import pandas as pd\n",
    "import numpy as np\n",
    "import matplotlib.pyplot as plt\n",
    "from mpl_toolkits.mplot3d import Axes3D"
   ]
  },
  {
   "cell_type": "code",
   "execution_count": 2,
   "id": "07e27d53-9011-445a-89fb-712214495266",
   "metadata": {},
   "outputs": [],
   "source": [
    "dirname=\"./../res/\"\n",
    "filename=\"initial_wavefunction\"\n",
    "ex=\".txt\"\n",
    "importname=dirname+filename+ex"
   ]
  },
  {
   "cell_type": "code",
   "execution_count": 4,
   "id": "ee1d2b8e-35e8-455f-9154-9551eb6365e8",
   "metadata": {},
   "outputs": [],
   "source": [
    "df = pd.read_csv(importname,sep=\"\\s+\")"
   ]
  }
 ],
 "metadata": {
  "kernelspec": {
   "display_name": "Python 3 (ipykernel)",
   "language": "python",
   "name": "python3"
  },
  "language_info": {
   "codemirror_mode": {
    "name": "ipython",
    "version": 3
   },
   "file_extension": ".py",
   "mimetype": "text/x-python",
   "name": "python",
   "nbconvert_exporter": "python",
   "pygments_lexer": "ipython3",
   "version": "3.8.10"
  }
 },
 "nbformat": 4,
 "nbformat_minor": 5
}
